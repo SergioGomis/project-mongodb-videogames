{
 "cells": [
  {
   "cell_type": "markdown",
   "metadata": {},
   "source": [
    "# Title"
   ]
  },
  {
   "cell_type": "markdown",
   "metadata": {},
   "source": [
    "#### Explain"
   ]
  },
  {
   "cell_type": "markdown",
   "metadata": {},
   "source": [
    "Importamos librerías"
   ]
  },
  {
   "cell_type": "code",
   "execution_count": 1,
   "metadata": {},
   "outputs": [],
   "source": [
    "from pymongo import MongoClient\n",
    "import pandas as pd\n",
    "from src.gameslib import (geocode,gMapsLink,toCartoPoint,toGeoJSON)\n",
    "import requests\n",
    "import json\n",
    "import os\n",
    "from dotenv import load_dotenv\n",
    "load_dotenv()\n",
    "import re"
   ]
  },
  {
   "cell_type": "markdown",
   "metadata": {},
   "source": [
    "Indicamos la base de datos de MongoDB (en carpeta /output, unzip y cargar en servidor local mongodb)"
   ]
  },
  {
   "cell_type": "code",
   "execution_count": 2,
   "metadata": {},
   "outputs": [],
   "source": [
    "client = MongoClient(\"mongodb://localhost/companies\")\n",
    "db = client.get_database()"
   ]
  },
  {
   "cell_type": "markdown",
   "metadata": {},
   "source": [
    "Tomamos una selección de campos para la nueva colección."
   ]
  },
  {
   "cell_type": "code",
   "execution_count": 3,
   "metadata": {},
   "outputs": [],
   "source": [
    "\n",
    "select = {\"name\":1,\"category_code\":1,\"number_of_employees\":1,\"tag_list\":1,\"offices\":1, \"_id\":0}\n",
    "\n",
    "companies2 = list(db[\"companies\"].find({},select))\n"
   ]
  },
  {
   "cell_type": "code",
   "execution_count": 4,
   "metadata": {},
   "outputs": [
    {
     "data": {
      "text/html": [
       "<div>\n",
       "<style scoped>\n",
       "    .dataframe tbody tr th:only-of-type {\n",
       "        vertical-align: middle;\n",
       "    }\n",
       "\n",
       "    .dataframe tbody tr th {\n",
       "        vertical-align: top;\n",
       "    }\n",
       "\n",
       "    .dataframe thead th {\n",
       "        text-align: right;\n",
       "    }\n",
       "</style>\n",
       "<table border=\"1\" class=\"dataframe\">\n",
       "  <thead>\n",
       "    <tr style=\"text-align: right;\">\n",
       "      <th></th>\n",
       "      <th>name</th>\n",
       "      <th>category_code</th>\n",
       "      <th>number_of_employees</th>\n",
       "      <th>tag_list</th>\n",
       "      <th>offices</th>\n",
       "    </tr>\n",
       "  </thead>\n",
       "  <tbody>\n",
       "    <tr>\n",
       "      <th>0</th>\n",
       "      <td>AdventNet</td>\n",
       "      <td>enterprise</td>\n",
       "      <td>600.0</td>\n",
       "      <td></td>\n",
       "      <td>[{'description': 'Headquarters', 'address1': '...</td>\n",
       "    </tr>\n",
       "    <tr>\n",
       "      <th>1</th>\n",
       "      <td>Wetpaint</td>\n",
       "      <td>web</td>\n",
       "      <td>47.0</td>\n",
       "      <td>wiki, seattle, elowitz, media-industry, media-...</td>\n",
       "      <td>[{'description': '', 'address1': '710 - 2nd Av...</td>\n",
       "    </tr>\n",
       "    <tr>\n",
       "      <th>2</th>\n",
       "      <td>Zoho</td>\n",
       "      <td>software</td>\n",
       "      <td>1600.0</td>\n",
       "      <td>zoho, officesuite, spreadsheet, writer, projec...</td>\n",
       "      <td>[{'description': 'Headquarters', 'address1': '...</td>\n",
       "    </tr>\n",
       "    <tr>\n",
       "      <th>3</th>\n",
       "      <td>Digg</td>\n",
       "      <td>news</td>\n",
       "      <td>60.0</td>\n",
       "      <td>community, social, news, bookmark, digg, techn...</td>\n",
       "      <td>[{'description': None, 'address1': '135 Missis...</td>\n",
       "    </tr>\n",
       "    <tr>\n",
       "      <th>4</th>\n",
       "      <td>Omnidrive</td>\n",
       "      <td>network_hosting</td>\n",
       "      <td>NaN</td>\n",
       "      <td>storage, sharing, edit, online</td>\n",
       "      <td>[{'description': '', 'address1': 'Suite 200', ...</td>\n",
       "    </tr>\n",
       "  </tbody>\n",
       "</table>\n",
       "</div>"
      ],
      "text/plain": [
       "        name    category_code  number_of_employees  \\\n",
       "0  AdventNet       enterprise                600.0   \n",
       "1   Wetpaint              web                 47.0   \n",
       "2       Zoho         software               1600.0   \n",
       "3       Digg             news                 60.0   \n",
       "4  Omnidrive  network_hosting                  NaN   \n",
       "\n",
       "                                            tag_list  \\\n",
       "0                                                      \n",
       "1  wiki, seattle, elowitz, media-industry, media-...   \n",
       "2  zoho, officesuite, spreadsheet, writer, projec...   \n",
       "3  community, social, news, bookmark, digg, techn...   \n",
       "4                     storage, sharing, edit, online   \n",
       "\n",
       "                                             offices  \n",
       "0  [{'description': 'Headquarters', 'address1': '...  \n",
       "1  [{'description': '', 'address1': '710 - 2nd Av...  \n",
       "2  [{'description': 'Headquarters', 'address1': '...  \n",
       "3  [{'description': None, 'address1': '135 Missis...  \n",
       "4  [{'description': '', 'address1': 'Suite 200', ...  "
      ]
     },
     "execution_count": 4,
     "metadata": {},
     "output_type": "execute_result"
    }
   ],
   "source": [
    "\n",
    "df = pd.DataFrame(companies2)\n",
    "df.head()"
   ]
  },
  {
   "cell_type": "markdown",
   "metadata": {},
   "source": [
    "Como vemos arriba, hay que *desmembrar* la columna de offices para sacar de la lista de diccionarios las coordenadas de las distintas ubicaciones"
   ]
  },
  {
   "cell_type": "code",
   "execution_count": 5,
   "metadata": {},
   "outputs": [],
   "source": [
    "#explode and expand\n",
    "df = df.explode('offices')\n",
    "dfOfficeData = df[[\"offices\"]].apply(lambda r: r.offices, result_type=\"expand\", axis=1)\n",
    "cleanData = pd.concat([df,dfOfficeData], axis=1)"
   ]
  },
  {
   "cell_type": "markdown",
   "metadata": {},
   "source": [
    "Drop NaN in coords"
   ]
  },
  {
   "cell_type": "code",
   "execution_count": 6,
   "metadata": {},
   "outputs": [
    {
     "data": {
      "text/html": [
       "<div>\n",
       "<style scoped>\n",
       "    .dataframe tbody tr th:only-of-type {\n",
       "        vertical-align: middle;\n",
       "    }\n",
       "\n",
       "    .dataframe tbody tr th {\n",
       "        vertical-align: top;\n",
       "    }\n",
       "\n",
       "    .dataframe thead th {\n",
       "        text-align: right;\n",
       "    }\n",
       "</style>\n",
       "<table border=\"1\" class=\"dataframe\">\n",
       "  <thead>\n",
       "    <tr style=\"text-align: right;\">\n",
       "      <th></th>\n",
       "      <th>name</th>\n",
       "      <th>category_code</th>\n",
       "      <th>number_of_employees</th>\n",
       "      <th>tag_list</th>\n",
       "      <th>description</th>\n",
       "      <th>address1</th>\n",
       "      <th>address2</th>\n",
       "      <th>zip_code</th>\n",
       "      <th>city</th>\n",
       "      <th>state_code</th>\n",
       "      <th>country_code</th>\n",
       "      <th>latitude</th>\n",
       "      <th>longitude</th>\n",
       "    </tr>\n",
       "  </thead>\n",
       "  <tbody>\n",
       "    <tr>\n",
       "      <th>0</th>\n",
       "      <td>AdventNet</td>\n",
       "      <td>enterprise</td>\n",
       "      <td>600.0</td>\n",
       "      <td></td>\n",
       "      <td>Headquarters</td>\n",
       "      <td>4900 Hopyard Rd.</td>\n",
       "      <td>Suite 310</td>\n",
       "      <td>94588</td>\n",
       "      <td>Pleasanton</td>\n",
       "      <td>CA</td>\n",
       "      <td>USA</td>\n",
       "      <td>37.692934</td>\n",
       "      <td>-121.904945</td>\n",
       "    </tr>\n",
       "    <tr>\n",
       "      <th>1</th>\n",
       "      <td>Wetpaint</td>\n",
       "      <td>web</td>\n",
       "      <td>47.0</td>\n",
       "      <td>wiki, seattle, elowitz, media-industry, media-...</td>\n",
       "      <td></td>\n",
       "      <td>710 - 2nd Avenue</td>\n",
       "      <td>Suite 1100</td>\n",
       "      <td>98104</td>\n",
       "      <td>Seattle</td>\n",
       "      <td>WA</td>\n",
       "      <td>USA</td>\n",
       "      <td>47.603122</td>\n",
       "      <td>-122.333253</td>\n",
       "    </tr>\n",
       "    <tr>\n",
       "      <th>2</th>\n",
       "      <td>Wetpaint</td>\n",
       "      <td>web</td>\n",
       "      <td>47.0</td>\n",
       "      <td>wiki, seattle, elowitz, media-industry, media-...</td>\n",
       "      <td></td>\n",
       "      <td>270 Lafayette Street</td>\n",
       "      <td>Suite 505</td>\n",
       "      <td>10012</td>\n",
       "      <td>New York</td>\n",
       "      <td>NY</td>\n",
       "      <td>USA</td>\n",
       "      <td>40.723731</td>\n",
       "      <td>-73.996431</td>\n",
       "    </tr>\n",
       "    <tr>\n",
       "      <th>3</th>\n",
       "      <td>Zoho</td>\n",
       "      <td>software</td>\n",
       "      <td>1600.0</td>\n",
       "      <td>zoho, officesuite, spreadsheet, writer, projec...</td>\n",
       "      <td>Headquarters</td>\n",
       "      <td>4900 Hopyard Rd</td>\n",
       "      <td>Suite 310</td>\n",
       "      <td>94588</td>\n",
       "      <td>Pleasanton</td>\n",
       "      <td>CA</td>\n",
       "      <td>USA</td>\n",
       "      <td>37.692934</td>\n",
       "      <td>-121.904945</td>\n",
       "    </tr>\n",
       "    <tr>\n",
       "      <th>4</th>\n",
       "      <td>Digg</td>\n",
       "      <td>news</td>\n",
       "      <td>60.0</td>\n",
       "      <td>community, social, news, bookmark, digg, techn...</td>\n",
       "      <td>None</td>\n",
       "      <td>135 Mississippi St</td>\n",
       "      <td></td>\n",
       "      <td>94107</td>\n",
       "      <td>San Francisco</td>\n",
       "      <td>CA</td>\n",
       "      <td>USA</td>\n",
       "      <td>37.764726</td>\n",
       "      <td>-122.394523</td>\n",
       "    </tr>\n",
       "  </tbody>\n",
       "</table>\n",
       "</div>"
      ],
      "text/plain": [
       "        name category_code  number_of_employees  \\\n",
       "0  AdventNet    enterprise                600.0   \n",
       "1   Wetpaint           web                 47.0   \n",
       "2   Wetpaint           web                 47.0   \n",
       "3       Zoho      software               1600.0   \n",
       "4       Digg          news                 60.0   \n",
       "\n",
       "                                            tag_list   description  \\\n",
       "0                                                     Headquarters   \n",
       "1  wiki, seattle, elowitz, media-industry, media-...                 \n",
       "2  wiki, seattle, elowitz, media-industry, media-...                 \n",
       "3  zoho, officesuite, spreadsheet, writer, projec...  Headquarters   \n",
       "4  community, social, news, bookmark, digg, techn...          None   \n",
       "\n",
       "               address1    address2 zip_code           city state_code  \\\n",
       "0      4900 Hopyard Rd.   Suite 310    94588     Pleasanton         CA   \n",
       "1      710 - 2nd Avenue  Suite 1100    98104        Seattle         WA   \n",
       "2  270 Lafayette Street   Suite 505    10012       New York         NY   \n",
       "3       4900 Hopyard Rd   Suite 310    94588     Pleasanton         CA   \n",
       "4    135 Mississippi St                94107  San Francisco         CA   \n",
       "\n",
       "  country_code   latitude   longitude  \n",
       "0          USA  37.692934 -121.904945  \n",
       "1          USA  47.603122 -122.333253  \n",
       "2          USA  40.723731  -73.996431  \n",
       "3          USA  37.692934 -121.904945  \n",
       "4          USA  37.764726 -122.394523  "
      ]
     },
     "execution_count": 6,
     "metadata": {},
     "output_type": "execute_result"
    }
   ],
   "source": [
    "cleanData.dropna(subset=['latitude','longitude'],inplace=True)\n",
    "cleanData.reset_index(inplace=True,drop=True)\n",
    "cleanData.drop(columns=[\"offices\"],inplace=True)\n",
    "\n",
    "cleanData.fillna(value={'number_of_employees':5.0},inplace=True)\n",
    "cleanData.head()"
   ]
  },
  {
   "cell_type": "markdown",
   "metadata": {},
   "source": [
    "Con la longitud y latitud limpias y sin nulos, creamos una columna tipo POINT para cartoframe y otra tipo geoJSON para incorporar a MongoDB"
   ]
  },
  {
   "cell_type": "code",
   "execution_count": 7,
   "metadata": {},
   "outputs": [
    {
     "data": {
      "text/plain": [
       "'POINT (-0.116537 51.517742)'"
      ]
     },
     "execution_count": 7,
     "metadata": {},
     "output_type": "execute_result"
    }
   ],
   "source": [
    "toCartoPoint(-0.116537,51.517742)"
   ]
  },
  {
   "cell_type": "code",
   "execution_count": 8,
   "metadata": {},
   "outputs": [
    {
     "data": {
      "text/plain": [
       "{'type': 'Point', 'coordinates': [-0.116537, 51.517742]}"
      ]
     },
     "execution_count": 8,
     "metadata": {},
     "output_type": "execute_result"
    }
   ],
   "source": [
    "toGeoJSON(-0.116537,51.517742)"
   ]
  },
  {
   "cell_type": "code",
   "execution_count": 9,
   "metadata": {},
   "outputs": [
    {
     "data": {
      "text/html": [
       "<div>\n",
       "<style scoped>\n",
       "    .dataframe tbody tr th:only-of-type {\n",
       "        vertical-align: middle;\n",
       "    }\n",
       "\n",
       "    .dataframe tbody tr th {\n",
       "        vertical-align: top;\n",
       "    }\n",
       "\n",
       "    .dataframe thead th {\n",
       "        text-align: right;\n",
       "    }\n",
       "</style>\n",
       "<table border=\"1\" class=\"dataframe\">\n",
       "  <thead>\n",
       "    <tr style=\"text-align: right;\">\n",
       "      <th></th>\n",
       "      <th>latitude</th>\n",
       "      <th>longitude</th>\n",
       "      <th>geometry</th>\n",
       "      <th>location</th>\n",
       "    </tr>\n",
       "  </thead>\n",
       "  <tbody>\n",
       "    <tr>\n",
       "      <th>0</th>\n",
       "      <td>37.692934</td>\n",
       "      <td>-121.904945</td>\n",
       "      <td>POINT (-121.904945 37.692934)</td>\n",
       "      <td>{'type': 'Point', 'coordinates': [-121.904945,...</td>\n",
       "    </tr>\n",
       "    <tr>\n",
       "      <th>1</th>\n",
       "      <td>47.603122</td>\n",
       "      <td>-122.333253</td>\n",
       "      <td>POINT (-122.333253 47.603122)</td>\n",
       "      <td>{'type': 'Point', 'coordinates': [-122.333253,...</td>\n",
       "    </tr>\n",
       "    <tr>\n",
       "      <th>2</th>\n",
       "      <td>40.723731</td>\n",
       "      <td>-73.996431</td>\n",
       "      <td>POINT (-73.9964312 40.7237306)</td>\n",
       "      <td>{'type': 'Point', 'coordinates': [-73.9964312,...</td>\n",
       "    </tr>\n",
       "    <tr>\n",
       "      <th>3</th>\n",
       "      <td>37.692934</td>\n",
       "      <td>-121.904945</td>\n",
       "      <td>POINT (-121.904945 37.692934)</td>\n",
       "      <td>{'type': 'Point', 'coordinates': [-121.904945,...</td>\n",
       "    </tr>\n",
       "    <tr>\n",
       "      <th>4</th>\n",
       "      <td>37.764726</td>\n",
       "      <td>-122.394523</td>\n",
       "      <td>POINT (-122.394523 37.764726)</td>\n",
       "      <td>{'type': 'Point', 'coordinates': [-122.394523,...</td>\n",
       "    </tr>\n",
       "  </tbody>\n",
       "</table>\n",
       "</div>"
      ],
      "text/plain": [
       "    latitude   longitude                        geometry  \\\n",
       "0  37.692934 -121.904945   POINT (-121.904945 37.692934)   \n",
       "1  47.603122 -122.333253   POINT (-122.333253 47.603122)   \n",
       "2  40.723731  -73.996431  POINT (-73.9964312 40.7237306)   \n",
       "3  37.692934 -121.904945   POINT (-121.904945 37.692934)   \n",
       "4  37.764726 -122.394523   POINT (-122.394523 37.764726)   \n",
       "\n",
       "                                            location  \n",
       "0  {'type': 'Point', 'coordinates': [-121.904945,...  \n",
       "1  {'type': 'Point', 'coordinates': [-122.333253,...  \n",
       "2  {'type': 'Point', 'coordinates': [-73.9964312,...  \n",
       "3  {'type': 'Point', 'coordinates': [-121.904945,...  \n",
       "4  {'type': 'Point', 'coordinates': [-122.394523,...  "
      ]
     },
     "execution_count": 9,
     "metadata": {},
     "output_type": "execute_result"
    }
   ],
   "source": [
    "cleanData[\"geometry\"] = cleanData[[\"latitude\",\"longitude\"]].apply(lambda x:toCartoPoint(x.longitude,x.latitude), axis=1)\n",
    "cleanData[\"location\"] = cleanData[[\"latitude\",\"longitude\"]].apply(lambda x:toGeoJSON(x.longitude,x.latitude), axis=1)\n",
    "cleanData[[\"latitude\",\"longitude\",\"geometry\",\"location\"]].head()"
   ]
  },
  {
   "cell_type": "markdown",
   "metadata": {},
   "source": [
    "Exportamos a json para incluirla como nueva colección en mongodb"
   ]
  },
  {
   "cell_type": "code",
   "execution_count": 10,
   "metadata": {},
   "outputs": [],
   "source": [
    "cleanData.to_json(\"./inputs/cleaned_offices.json\", orient=\"records\")\n",
    "\n",
    "# In bash: \n",
    "# $ mongoimport --db companies --collection cleancompanies --jsonArray --drop inputs/cleaned_offices.json\n",
    "\n",
    "# (le estamos indicando que queremos importar nuestro json a la db companies con nombre cleancompanies)\n"
   ]
  },
  {
   "cell_type": "markdown",
   "metadata": {},
   "source": [
    "#### Para visualizar los datos mediante mapas en Mongo Compass, iremos a nuestra nueva colección, pestaña Indexes > Create Index > nombre (p.ej. \"geoindex\") > Seleccionamos columna \"location\" y '2dsphere' en el desplegable"
   ]
  },
  {
   "cell_type": "code",
   "execution_count": null,
   "metadata": {},
   "outputs": [],
   "source": []
  },
  {
   "cell_type": "code",
   "execution_count": null,
   "metadata": {},
   "outputs": [],
   "source": []
  },
  {
   "cell_type": "code",
   "execution_count": null,
   "metadata": {},
   "outputs": [],
   "source": []
  },
  {
   "cell_type": "code",
   "execution_count": null,
   "metadata": {},
   "outputs": [],
   "source": []
  },
  {
   "cell_type": "code",
   "execution_count": null,
   "metadata": {},
   "outputs": [],
   "source": []
  },
  {
   "cell_type": "code",
   "execution_count": null,
   "metadata": {},
   "outputs": [],
   "source": []
  },
  {
   "cell_type": "code",
   "execution_count": null,
   "metadata": {},
   "outputs": [],
   "source": []
  },
  {
   "cell_type": "code",
   "execution_count": 11,
   "metadata": {},
   "outputs": [
    {
     "name": "stdout",
     "output_type": "stream",
     "text": [
      "{'type': 'Point', 'coordinates': [6.9665, 50.93545]}\n"
     ]
    }
   ],
   "source": [
    "\n",
    "ciudad = geocode(\"Köln\")\n",
    "print(ciudad)\n",
    "#print(gMapsLink(ciudad))"
   ]
  },
  {
   "cell_type": "code",
   "execution_count": 12,
   "metadata": {},
   "outputs": [
    {
     "name": "stdout",
     "output_type": "stream",
     "text": [
      "https://www.google.com/maps/@50.93545,6.9665,14z\n"
     ]
    }
   ],
   "source": [
    "\n",
    "print(gMapsLink(ciudad))"
   ]
  },
  {
   "cell_type": "code",
   "execution_count": null,
   "metadata": {},
   "outputs": [],
   "source": []
  },
  {
   "cell_type": "code",
   "execution_count": null,
   "metadata": {},
   "outputs": [],
   "source": []
  },
  {
   "cell_type": "code",
   "execution_count": null,
   "metadata": {},
   "outputs": [],
   "source": []
  },
  {
   "cell_type": "code",
   "execution_count": null,
   "metadata": {},
   "outputs": [],
   "source": []
  },
  {
   "cell_type": "code",
   "execution_count": null,
   "metadata": {},
   "outputs": [],
   "source": []
  },
  {
   "cell_type": "code",
   "execution_count": null,
   "metadata": {},
   "outputs": [],
   "source": []
  },
  {
   "cell_type": "code",
   "execution_count": null,
   "metadata": {},
   "outputs": [],
   "source": []
  },
  {
   "cell_type": "code",
   "execution_count": null,
   "metadata": {},
   "outputs": [],
   "source": []
  },
  {
   "cell_type": "code",
   "execution_count": null,
   "metadata": {},
   "outputs": [],
   "source": []
  },
  {
   "cell_type": "code",
   "execution_count": 13,
   "metadata": {},
   "outputs": [],
   "source": [
    "lat='38.345887'\n",
    "long='-0.490576'\n",
    "tipositio='school'\n",
    "radio='2500'\n",
    "API_KEY = os.getenv(\"PLACES_API_TOKEN\")\n",
    "URL = f'https://maps.googleapis.com/maps/api/place/nearbysearch/json?location={lat},{long}&type={tipositio}&radius={radio}&key={API_KEY}'\n"
   ]
  },
  {
   "cell_type": "code",
   "execution_count": 14,
   "metadata": {},
   "outputs": [],
   "source": [
    "response_data = requests.get(URL)\n"
   ]
  },
  {
   "cell_type": "code",
   "execution_count": 15,
   "metadata": {},
   "outputs": [
    {
     "data": {
      "text/plain": [
       "254"
      ]
     },
     "execution_count": 15,
     "metadata": {},
     "output_type": "execute_result"
    }
   ],
   "source": [
    "data = len(list(response_data))\n",
    "data"
   ]
  },
  {
   "cell_type": "code",
   "execution_count": 16,
   "metadata": {},
   "outputs": [
    {
     "name": "stdout",
     "output_type": "stream",
     "text": [
      "{'lat': 38.3567087, 'lng': -0.5058289}\n",
      "{'lat': 38.34958, 'lng': -0.4740800000000001}\n",
      "{'lat': 38.3523635, 'lng': -0.5051052}\n",
      "{'lat': 38.34316400000001, 'lng': -0.492161}\n",
      "{'lat': 38.3619991, 'lng': -0.4909873000000001}\n",
      "{'lat': 38.3534778, 'lng': -0.4856677}\n",
      "{'lat': 38.3466503, 'lng': -0.5062078999999999}\n",
      "{'lat': 38.3392515, 'lng': -0.5077184}\n",
      "{'lat': 38.3553565, 'lng': -0.4739583999999999}\n",
      "{'lat': 38.3447153, 'lng': -0.4900758}\n",
      "{'lat': 38.345251, 'lng': -0.491248}\n",
      "{'lat': 38.3411174, 'lng': -0.4958768}\n",
      "{'lat': 38.3432417, 'lng': -0.4840492}\n",
      "{'lat': 38.35493140000001, 'lng': -0.4869952999999999}\n",
      "{'lat': 38.3400287, 'lng': -0.4991959}\n",
      "{'lat': 38.35236520000001, 'lng': -0.5032013}\n",
      "{'lat': 38.3534297, 'lng': -0.4964602}\n",
      "{'lat': 38.34400730000001, 'lng': -0.4859191}\n",
      "{'lat': 38.35245219999999, 'lng': -0.4748248999999999}\n",
      "{'lat': 38.3486923, 'lng': -0.4747926}\n"
     ]
    }
   ],
   "source": [
    "json_data = json.loads(response_data.text)\n",
    "lista_coles = json_data['results']\n",
    "for i in range(len(lista_coles)):\n",
    "    print(lista_coles[i]['geometry']['location'])"
   ]
  },
  {
   "cell_type": "code",
   "execution_count": 17,
   "metadata": {},
   "outputs": [],
   "source": [
    "# From Response/JSON to dict:\n",
    "# data_dict = json.loads(response_data.text)\n",
    "# From dict to json:\n",
    "# y = json.dumps(data_dict)\n",
    "\n"
   ]
  },
  {
   "cell_type": "code",
   "execution_count": null,
   "metadata": {},
   "outputs": [],
   "source": []
  },
  {
   "cell_type": "code",
   "execution_count": 18,
   "metadata": {},
   "outputs": [],
   "source": [
    "lat='38.345887'\n",
    "long='-0.490576'\n",
    "radio='1000'\n",
    "placename = 'Starbucks'\n",
    "URL = f'https://maps.googleapis.com/maps/api/place/findplacefromtext/json?input={placename}&inputtype=textquery&fields=formatted_address,name&locationbias=circle:{radio}@{lat},{long}&key={API_KEY}'"
   ]
  },
  {
   "cell_type": "code",
   "execution_count": 19,
   "metadata": {},
   "outputs": [],
   "source": [
    "response_data = requests.get(URL)\n"
   ]
  },
  {
   "cell_type": "code",
   "execution_count": 20,
   "metadata": {},
   "outputs": [
    {
     "data": {
      "text/plain": [
       "{'candidates': [{'formatted_address': 'Av. Maisonnave, 53, 03003 Alicante, España',\n",
       "   'name': 'Starbucks'}],\n",
       " 'status': 'OK'}"
      ]
     },
     "execution_count": 20,
     "metadata": {},
     "output_type": "execute_result"
    }
   ],
   "source": [
    "json_data = json.loads(response_data.text)\n",
    "#starb = json_data['results']\n",
    "json_data"
   ]
  }
 ],
 "metadata": {
  "kernelspec": {
   "display_name": "Python 3",
   "language": "python",
   "name": "python3"
  },
  "language_info": {
   "codemirror_mode": {
    "name": "ipython",
    "version": 3
   },
   "file_extension": ".py",
   "mimetype": "text/x-python",
   "name": "python",
   "nbconvert_exporter": "python",
   "pygments_lexer": "ipython3",
   "version": "3.7.5"
  }
 },
 "nbformat": 4,
 "nbformat_minor": 4
}
