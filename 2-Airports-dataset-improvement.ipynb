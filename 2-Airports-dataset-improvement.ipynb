{
 "cells": [
  {
   "cell_type": "markdown",
   "metadata": {},
   "source": [
    "## Mejora del dataset de aeropuertos"
   ]
  },
  {
   "cell_type": "markdown",
   "metadata": {},
   "source": [
    "#### Google Places nos da muchos más puntos de los reales cuando buscamos por tipo 'airport', así que haremos geoqueries a mongo"
   ]
  },
  {
   "cell_type": "markdown",
   "metadata": {},
   "source": [
    "Importamos librerías"
   ]
  },
  {
   "cell_type": "code",
   "execution_count": 1,
   "metadata": {},
   "outputs": [],
   "source": [
    "from pymongo import MongoClient\n",
    "import pandas as pd\n",
    "from src.gameslib import (toGeoJSON)\n",
    "import requests\n",
    "import json"
   ]
  },
  {
   "cell_type": "markdown",
   "metadata": {},
   "source": [
    "Importamos dataset de aeropuertos descargado de https://datahub.io/core/airport-codes"
   ]
  },
  {
   "cell_type": "code",
   "execution_count": 2,
   "metadata": {},
   "outputs": [],
   "source": [
    "# $ mongoimport --db companies --collection airports --jsonArray --drop inputs/airport-codes_json.json"
   ]
  },
  {
   "cell_type": "markdown",
   "metadata": {},
   "source": [
    "Conectamos con la BD"
   ]
  },
  {
   "cell_type": "code",
   "execution_count": 3,
   "metadata": {},
   "outputs": [],
   "source": [
    "client = MongoClient(\"mongodb://localhost/companies\")\n",
    "db = client.get_database()"
   ]
  },
  {
   "cell_type": "markdown",
   "metadata": {},
   "source": [
    "Eliminamos todos los que no sean de tipo 'large_airport'"
   ]
  },
  {
   "cell_type": "code",
   "execution_count": 4,
   "metadata": {},
   "outputs": [],
   "source": [
    "\n",
    "query_air = {\"$and\":[{\"type\":{\"$not\":{\"$eq\":\"small_airport\"}}},{\"type\":{\"$not\":{\"$eq\":\"closed\"}}},{\"type\":{\"$not\":{\"$eq\":\"heliport\"}}},{\"type\":{\"$not\":{\"$eq\":\"seaplane_base\"}}},{\"type\":{\"$not\":{\"$eq\":\"balloonport\"}}},{\"type\":{\"$not\":{\"$eq\":\"medium_airport\"}}}]}\n",
    "aeropuertos = list(db[\"airports\"].find(query_air))\n",
    "dfa = pd.DataFrame(aeropuertos)"
   ]
  },
  {
   "cell_type": "markdown",
   "metadata": {},
   "source": [
    "Le aplicamos transformaciones a la columna de coordenadas para obtener el formato correcto del punto para MongoDB"
   ]
  },
  {
   "cell_type": "code",
   "execution_count": 5,
   "metadata": {},
   "outputs": [],
   "source": [
    "temp = dfa[\"coordinates\"].str.split(\", \", n = 1, expand = True)\n",
    "dfa[\"longitud\"]= temp[0].apply(lambda x:float(x))\n",
    "dfa[\"latitud\"]= temp[1].apply(lambda x:float(x))\n",
    "dfa.drop(columns =[\"_id\",\"coordinates\"], inplace = True)\n",
    "dfa[\"location\"] = dfa[[\"latitud\",\"longitud\"]].apply(lambda x:toGeoJSON(x.longitud,x.latitud), axis=1)\n",
    "\n",
    "# Guardamos fichero\n",
    "dfa.to_json(\"./inputs/cleaned_airports.json\", orient=\"records\", force_ascii=False)"
   ]
  },
  {
   "cell_type": "markdown",
   "metadata": {},
   "source": [
    "Importamos a mongodb una vez añadido el punto para geoqueries"
   ]
  },
  {
   "cell_type": "code",
   "execution_count": 6,
   "metadata": {},
   "outputs": [],
   "source": [
    "# $ mongoimport --db companies --collection cleanairports --jsonArray --drop inputs/cleaned_airports.json"
   ]
  },
  {
   "cell_type": "markdown",
   "metadata": {},
   "source": [
    "#### Importante crear en Mongo Compass un índice a la colección (2dsphere)"
   ]
  },
  {
   "cell_type": "code",
   "execution_count": null,
   "metadata": {},
   "outputs": [],
   "source": []
  }
 ],
 "metadata": {
  "kernelspec": {
   "display_name": "Python 3",
   "language": "python",
   "name": "python3"
  },
  "language_info": {
   "codemirror_mode": {
    "name": "ipython",
    "version": 3
   },
   "file_extension": ".py",
   "mimetype": "text/x-python",
   "name": "python",
   "nbconvert_exporter": "python",
   "pygments_lexer": "ipython3",
   "version": "3.7.6"
  }
 },
 "nbformat": 4,
 "nbformat_minor": 4
}
