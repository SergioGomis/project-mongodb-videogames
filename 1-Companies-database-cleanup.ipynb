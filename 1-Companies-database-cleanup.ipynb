{
 "cells": [
  {
   "cell_type": "markdown",
   "metadata": {},
   "source": [
    "# Adecuación de una BBDD con coordenadas para ejecutar geoqueries"
   ]
  },
  {
   "cell_type": "markdown",
   "metadata": {},
   "source": [
    "#### Tomamos la BBDD del fichero JSON comprimido en la carpeta 'inputs' y la adecuamos para que contenga un fila por cada una de las oficinas que poseen las empresas del dataset, y además añadimos una columna con el formato adecuado para ejecutar geoqueries en MongoDB"
   ]
  },
  {
   "cell_type": "markdown",
   "metadata": {},
   "source": [
    "Importamos librerías"
   ]
  },
  {
   "cell_type": "code",
   "execution_count": 1,
   "metadata": {},
   "outputs": [],
   "source": [
    "from pymongo import MongoClient\n",
    "import pandas as pd\n",
    "from src.gameslib import (geocode,gMapsLink,toCartoPoint,toGeoJSON)\n",
    "import requests\n",
    "import json\n",
    "import os\n",
    "from dotenv import load_dotenv\n",
    "load_dotenv()\n",
    "import re"
   ]
  },
  {
   "cell_type": "markdown",
   "metadata": {},
   "source": [
    "Indicamos la base de datos de MongoDB (en carpeta /output, unzip y cargar en servidor local mongodb)"
   ]
  },
  {
   "cell_type": "code",
   "execution_count": 2,
   "metadata": {},
   "outputs": [],
   "source": [
    "client = MongoClient(\"mongodb://localhost/companies\")\n",
    "db = client.get_database()"
   ]
  },
  {
   "cell_type": "markdown",
   "metadata": {},
   "source": [
    "Tomamos una selección de campos para la nueva colección."
   ]
  },
  {
   "cell_type": "code",
   "execution_count": 3,
   "metadata": {},
   "outputs": [],
   "source": [
    "\n",
    "select = {\"name\":1,\"category_code\":1,\"number_of_employees\":1,\"tag_list\":1,\"offices\":1, \"_id\":0}\n",
    "\n",
    "companies2 = list(db[\"companies\"].find({},select))\n"
   ]
  },
  {
   "cell_type": "code",
   "execution_count": 4,
   "metadata": {},
   "outputs": [
    {
     "data": {
      "text/html": [
       "<div>\n",
       "<style scoped>\n",
       "    .dataframe tbody tr th:only-of-type {\n",
       "        vertical-align: middle;\n",
       "    }\n",
       "\n",
       "    .dataframe tbody tr th {\n",
       "        vertical-align: top;\n",
       "    }\n",
       "\n",
       "    .dataframe thead th {\n",
       "        text-align: right;\n",
       "    }\n",
       "</style>\n",
       "<table border=\"1\" class=\"dataframe\">\n",
       "  <thead>\n",
       "    <tr style=\"text-align: right;\">\n",
       "      <th></th>\n",
       "      <th>name</th>\n",
       "      <th>category_code</th>\n",
       "      <th>number_of_employees</th>\n",
       "      <th>tag_list</th>\n",
       "      <th>offices</th>\n",
       "    </tr>\n",
       "  </thead>\n",
       "  <tbody>\n",
       "    <tr>\n",
       "      <th>0</th>\n",
       "      <td>AdventNet</td>\n",
       "      <td>enterprise</td>\n",
       "      <td>600.0</td>\n",
       "      <td></td>\n",
       "      <td>[{'description': 'Headquarters', 'address1': '...</td>\n",
       "    </tr>\n",
       "    <tr>\n",
       "      <th>1</th>\n",
       "      <td>Zoho</td>\n",
       "      <td>software</td>\n",
       "      <td>1600.0</td>\n",
       "      <td>zoho, officesuite, spreadsheet, writer, projec...</td>\n",
       "      <td>[{'description': 'Headquarters', 'address1': '...</td>\n",
       "    </tr>\n",
       "    <tr>\n",
       "      <th>2</th>\n",
       "      <td>Wetpaint</td>\n",
       "      <td>web</td>\n",
       "      <td>47.0</td>\n",
       "      <td>wiki, seattle, elowitz, media-industry, media-...</td>\n",
       "      <td>[{'description': '', 'address1': '710 - 2nd Av...</td>\n",
       "    </tr>\n",
       "    <tr>\n",
       "      <th>3</th>\n",
       "      <td>Omnidrive</td>\n",
       "      <td>network_hosting</td>\n",
       "      <td>NaN</td>\n",
       "      <td>storage, sharing, edit, online</td>\n",
       "      <td>[{'description': '', 'address1': 'Suite 200', ...</td>\n",
       "    </tr>\n",
       "    <tr>\n",
       "      <th>4</th>\n",
       "      <td>Postini</td>\n",
       "      <td>web</td>\n",
       "      <td>NaN</td>\n",
       "      <td></td>\n",
       "      <td>[{'description': None, 'address1': '959 Skyway...</td>\n",
       "    </tr>\n",
       "  </tbody>\n",
       "</table>\n",
       "</div>"
      ],
      "text/plain": [
       "        name    category_code  number_of_employees  \\\n",
       "0  AdventNet       enterprise                600.0   \n",
       "1       Zoho         software               1600.0   \n",
       "2   Wetpaint              web                 47.0   \n",
       "3  Omnidrive  network_hosting                  NaN   \n",
       "4    Postini              web                  NaN   \n",
       "\n",
       "                                            tag_list  \\\n",
       "0                                                      \n",
       "1  zoho, officesuite, spreadsheet, writer, projec...   \n",
       "2  wiki, seattle, elowitz, media-industry, media-...   \n",
       "3                     storage, sharing, edit, online   \n",
       "4                                                      \n",
       "\n",
       "                                             offices  \n",
       "0  [{'description': 'Headquarters', 'address1': '...  \n",
       "1  [{'description': 'Headquarters', 'address1': '...  \n",
       "2  [{'description': '', 'address1': '710 - 2nd Av...  \n",
       "3  [{'description': '', 'address1': 'Suite 200', ...  \n",
       "4  [{'description': None, 'address1': '959 Skyway...  "
      ]
     },
     "execution_count": 4,
     "metadata": {},
     "output_type": "execute_result"
    }
   ],
   "source": [
    "\n",
    "df = pd.DataFrame(companies2)\n",
    "df.head()"
   ]
  },
  {
   "cell_type": "markdown",
   "metadata": {},
   "source": [
    "Como vemos arriba, hay que *desmembrar* la columna de offices para sacar de la lista de diccionarios las coordenadas de las distintas ubicaciones"
   ]
  },
  {
   "cell_type": "code",
   "execution_count": 5,
   "metadata": {},
   "outputs": [],
   "source": [
    "#explode and expand\n",
    "df = df.explode('offices')\n",
    "dfOfficeData = df[[\"offices\"]].apply(lambda r: r.offices, result_type=\"expand\", axis=1)\n",
    "cleanData = pd.concat([df,dfOfficeData], axis=1)"
   ]
  },
  {
   "cell_type": "markdown",
   "metadata": {},
   "source": [
    "Drop NaN in coords"
   ]
  },
  {
   "cell_type": "code",
   "execution_count": 6,
   "metadata": {},
   "outputs": [
    {
     "data": {
      "text/html": [
       "<div>\n",
       "<style scoped>\n",
       "    .dataframe tbody tr th:only-of-type {\n",
       "        vertical-align: middle;\n",
       "    }\n",
       "\n",
       "    .dataframe tbody tr th {\n",
       "        vertical-align: top;\n",
       "    }\n",
       "\n",
       "    .dataframe thead th {\n",
       "        text-align: right;\n",
       "    }\n",
       "</style>\n",
       "<table border=\"1\" class=\"dataframe\">\n",
       "  <thead>\n",
       "    <tr style=\"text-align: right;\">\n",
       "      <th></th>\n",
       "      <th>name</th>\n",
       "      <th>category_code</th>\n",
       "      <th>number_of_employees</th>\n",
       "      <th>tag_list</th>\n",
       "      <th>description</th>\n",
       "      <th>address1</th>\n",
       "      <th>address2</th>\n",
       "      <th>zip_code</th>\n",
       "      <th>city</th>\n",
       "      <th>state_code</th>\n",
       "      <th>country_code</th>\n",
       "      <th>latitude</th>\n",
       "      <th>longitude</th>\n",
       "    </tr>\n",
       "  </thead>\n",
       "  <tbody>\n",
       "    <tr>\n",
       "      <th>0</th>\n",
       "      <td>AdventNet</td>\n",
       "      <td>enterprise</td>\n",
       "      <td>600.0</td>\n",
       "      <td></td>\n",
       "      <td>Headquarters</td>\n",
       "      <td>4900 Hopyard Rd.</td>\n",
       "      <td>Suite 310</td>\n",
       "      <td>94588</td>\n",
       "      <td>Pleasanton</td>\n",
       "      <td>CA</td>\n",
       "      <td>USA</td>\n",
       "      <td>37.692934</td>\n",
       "      <td>-121.904945</td>\n",
       "    </tr>\n",
       "    <tr>\n",
       "      <th>1</th>\n",
       "      <td>Zoho</td>\n",
       "      <td>software</td>\n",
       "      <td>1600.0</td>\n",
       "      <td>zoho, officesuite, spreadsheet, writer, projec...</td>\n",
       "      <td>Headquarters</td>\n",
       "      <td>4900 Hopyard Rd</td>\n",
       "      <td>Suite 310</td>\n",
       "      <td>94588</td>\n",
       "      <td>Pleasanton</td>\n",
       "      <td>CA</td>\n",
       "      <td>USA</td>\n",
       "      <td>37.692934</td>\n",
       "      <td>-121.904945</td>\n",
       "    </tr>\n",
       "    <tr>\n",
       "      <th>2</th>\n",
       "      <td>Wetpaint</td>\n",
       "      <td>web</td>\n",
       "      <td>47.0</td>\n",
       "      <td>wiki, seattle, elowitz, media-industry, media-...</td>\n",
       "      <td></td>\n",
       "      <td>710 - 2nd Avenue</td>\n",
       "      <td>Suite 1100</td>\n",
       "      <td>98104</td>\n",
       "      <td>Seattle</td>\n",
       "      <td>WA</td>\n",
       "      <td>USA</td>\n",
       "      <td>47.603122</td>\n",
       "      <td>-122.333253</td>\n",
       "    </tr>\n",
       "    <tr>\n",
       "      <th>3</th>\n",
       "      <td>Wetpaint</td>\n",
       "      <td>web</td>\n",
       "      <td>47.0</td>\n",
       "      <td>wiki, seattle, elowitz, media-industry, media-...</td>\n",
       "      <td></td>\n",
       "      <td>270 Lafayette Street</td>\n",
       "      <td>Suite 505</td>\n",
       "      <td>10012</td>\n",
       "      <td>New York</td>\n",
       "      <td>NY</td>\n",
       "      <td>USA</td>\n",
       "      <td>40.723731</td>\n",
       "      <td>-73.996431</td>\n",
       "    </tr>\n",
       "    <tr>\n",
       "      <th>4</th>\n",
       "      <td>Postini</td>\n",
       "      <td>web</td>\n",
       "      <td>5.0</td>\n",
       "      <td></td>\n",
       "      <td>None</td>\n",
       "      <td>959 Skyway Road, Suite 200</td>\n",
       "      <td>None</td>\n",
       "      <td>94070</td>\n",
       "      <td>San Carlos</td>\n",
       "      <td>CA</td>\n",
       "      <td>USA</td>\n",
       "      <td>37.506885</td>\n",
       "      <td>-122.247573</td>\n",
       "    </tr>\n",
       "  </tbody>\n",
       "</table>\n",
       "</div>"
      ],
      "text/plain": [
       "        name category_code  number_of_employees  \\\n",
       "0  AdventNet    enterprise                600.0   \n",
       "1       Zoho      software               1600.0   \n",
       "2   Wetpaint           web                 47.0   \n",
       "3   Wetpaint           web                 47.0   \n",
       "4    Postini           web                  5.0   \n",
       "\n",
       "                                            tag_list   description  \\\n",
       "0                                                     Headquarters   \n",
       "1  zoho, officesuite, spreadsheet, writer, projec...  Headquarters   \n",
       "2  wiki, seattle, elowitz, media-industry, media-...                 \n",
       "3  wiki, seattle, elowitz, media-industry, media-...                 \n",
       "4                                                             None   \n",
       "\n",
       "                     address1    address2 zip_code        city state_code  \\\n",
       "0            4900 Hopyard Rd.   Suite 310    94588  Pleasanton         CA   \n",
       "1             4900 Hopyard Rd   Suite 310    94588  Pleasanton         CA   \n",
       "2            710 - 2nd Avenue  Suite 1100    98104     Seattle         WA   \n",
       "3        270 Lafayette Street   Suite 505    10012    New York         NY   \n",
       "4  959 Skyway Road, Suite 200        None    94070  San Carlos         CA   \n",
       "\n",
       "  country_code   latitude   longitude  \n",
       "0          USA  37.692934 -121.904945  \n",
       "1          USA  37.692934 -121.904945  \n",
       "2          USA  47.603122 -122.333253  \n",
       "3          USA  40.723731  -73.996431  \n",
       "4          USA  37.506885 -122.247573  "
      ]
     },
     "execution_count": 6,
     "metadata": {},
     "output_type": "execute_result"
    }
   ],
   "source": [
    "cleanData.dropna(subset=['latitude','longitude'],inplace=True)\n",
    "cleanData.reset_index(inplace=True,drop=True)\n",
    "cleanData.drop(columns=[\"offices\"],inplace=True)\n",
    "\n",
    "cleanData.fillna(value={'number_of_employees':5.0},inplace=True)\n",
    "cleanData.head()"
   ]
  },
  {
   "cell_type": "markdown",
   "metadata": {},
   "source": [
    "Con la longitud y latitud limpias y sin nulos, creamos una columna tipo POINT para cartoframe y otra tipo geoJSON para incorporar a MongoDB"
   ]
  },
  {
   "cell_type": "code",
   "execution_count": 7,
   "metadata": {},
   "outputs": [
    {
     "data": {
      "text/plain": [
       "'POINT (-0.116537 51.517742)'"
      ]
     },
     "execution_count": 7,
     "metadata": {},
     "output_type": "execute_result"
    }
   ],
   "source": [
    "toCartoPoint(-0.116537,51.517742)"
   ]
  },
  {
   "cell_type": "code",
   "execution_count": 8,
   "metadata": {},
   "outputs": [
    {
     "data": {
      "text/plain": [
       "{'type': 'Point', 'coordinates': [-0.116537, 51.517742]}"
      ]
     },
     "execution_count": 8,
     "metadata": {},
     "output_type": "execute_result"
    }
   ],
   "source": [
    "toGeoJSON(-0.116537,51.517742)"
   ]
  },
  {
   "cell_type": "code",
   "execution_count": 9,
   "metadata": {},
   "outputs": [
    {
     "data": {
      "text/html": [
       "<div>\n",
       "<style scoped>\n",
       "    .dataframe tbody tr th:only-of-type {\n",
       "        vertical-align: middle;\n",
       "    }\n",
       "\n",
       "    .dataframe tbody tr th {\n",
       "        vertical-align: top;\n",
       "    }\n",
       "\n",
       "    .dataframe thead th {\n",
       "        text-align: right;\n",
       "    }\n",
       "</style>\n",
       "<table border=\"1\" class=\"dataframe\">\n",
       "  <thead>\n",
       "    <tr style=\"text-align: right;\">\n",
       "      <th></th>\n",
       "      <th>latitude</th>\n",
       "      <th>longitude</th>\n",
       "      <th>geometry</th>\n",
       "      <th>location</th>\n",
       "    </tr>\n",
       "  </thead>\n",
       "  <tbody>\n",
       "    <tr>\n",
       "      <th>0</th>\n",
       "      <td>37.692934</td>\n",
       "      <td>-121.904945</td>\n",
       "      <td>POINT (-121.904945 37.692934)</td>\n",
       "      <td>{'type': 'Point', 'coordinates': [-121.904945,...</td>\n",
       "    </tr>\n",
       "    <tr>\n",
       "      <th>1</th>\n",
       "      <td>37.692934</td>\n",
       "      <td>-121.904945</td>\n",
       "      <td>POINT (-121.904945 37.692934)</td>\n",
       "      <td>{'type': 'Point', 'coordinates': [-121.904945,...</td>\n",
       "    </tr>\n",
       "    <tr>\n",
       "      <th>2</th>\n",
       "      <td>47.603122</td>\n",
       "      <td>-122.333253</td>\n",
       "      <td>POINT (-122.333253 47.603122)</td>\n",
       "      <td>{'type': 'Point', 'coordinates': [-122.333253,...</td>\n",
       "    </tr>\n",
       "    <tr>\n",
       "      <th>3</th>\n",
       "      <td>40.723731</td>\n",
       "      <td>-73.996431</td>\n",
       "      <td>POINT (-73.9964312 40.7237306)</td>\n",
       "      <td>{'type': 'Point', 'coordinates': [-73.9964312,...</td>\n",
       "    </tr>\n",
       "    <tr>\n",
       "      <th>4</th>\n",
       "      <td>37.506885</td>\n",
       "      <td>-122.247573</td>\n",
       "      <td>POINT (-122.247573 37.506885)</td>\n",
       "      <td>{'type': 'Point', 'coordinates': [-122.247573,...</td>\n",
       "    </tr>\n",
       "  </tbody>\n",
       "</table>\n",
       "</div>"
      ],
      "text/plain": [
       "    latitude   longitude                        geometry  \\\n",
       "0  37.692934 -121.904945   POINT (-121.904945 37.692934)   \n",
       "1  37.692934 -121.904945   POINT (-121.904945 37.692934)   \n",
       "2  47.603122 -122.333253   POINT (-122.333253 47.603122)   \n",
       "3  40.723731  -73.996431  POINT (-73.9964312 40.7237306)   \n",
       "4  37.506885 -122.247573   POINT (-122.247573 37.506885)   \n",
       "\n",
       "                                            location  \n",
       "0  {'type': 'Point', 'coordinates': [-121.904945,...  \n",
       "1  {'type': 'Point', 'coordinates': [-121.904945,...  \n",
       "2  {'type': 'Point', 'coordinates': [-122.333253,...  \n",
       "3  {'type': 'Point', 'coordinates': [-73.9964312,...  \n",
       "4  {'type': 'Point', 'coordinates': [-122.247573,...  "
      ]
     },
     "execution_count": 9,
     "metadata": {},
     "output_type": "execute_result"
    }
   ],
   "source": [
    "cleanData[\"geometry\"] = cleanData[[\"latitude\",\"longitude\"]].apply(lambda x:toCartoPoint(x.longitude,x.latitude), axis=1)\n",
    "cleanData[\"location\"] = cleanData[[\"latitude\",\"longitude\"]].apply(lambda x:toGeoJSON(x.longitude,x.latitude), axis=1)\n",
    "cleanData[[\"latitude\",\"longitude\",\"geometry\",\"location\"]].head()"
   ]
  },
  {
   "cell_type": "markdown",
   "metadata": {},
   "source": [
    "Exportamos a json para incluirla como nueva colección en mongodb"
   ]
  },
  {
   "cell_type": "code",
   "execution_count": 10,
   "metadata": {},
   "outputs": [],
   "source": [
    "cleanData.to_json(\"./inputs/cleaned_offices.json\", orient=\"records\")\n",
    "\n",
    "# In bash: \n",
    "# $ mongoimport --db companies --collection cleancompanies --jsonArray --drop inputs/cleaned_offices.json\n",
    "\n",
    "# (le estamos indicando que queremos importar nuestro json a la db companies con nombre cleancompanies)\n"
   ]
  },
  {
   "cell_type": "markdown",
   "metadata": {},
   "source": [
    "#### Para visualizar los datos mediante mapas en Mongo Compass, iremos a nuestra nueva colección, pestaña Indexes > Create Index > nombre (p.ej. \"geoindex\") > Seleccionamos columna \"location\" y '2dsphere' en el desplegable"
   ]
  },
  {
   "cell_type": "code",
   "execution_count": null,
   "metadata": {},
   "outputs": [],
   "source": []
  }
 ],
 "metadata": {
  "kernelspec": {
   "display_name": "Python 3",
   "language": "python",
   "name": "python3"
  },
  "language_info": {
   "codemirror_mode": {
    "name": "ipython",
    "version": 3
   },
   "file_extension": ".py",
   "mimetype": "text/x-python",
   "name": "python",
   "nbconvert_exporter": "python",
   "pygments_lexer": "ipython3",
   "version": "3.7.6"
  }
 },
 "nbformat": 4,
 "nbformat_minor": 4
}
